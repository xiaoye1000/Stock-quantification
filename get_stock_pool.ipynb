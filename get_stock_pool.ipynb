{
 "cells": [
  {
   "cell_type": "code",
   "execution_count": 35,
   "metadata": {},
   "outputs": [],
   "source": [
    "import json\n",
    "import pandas as pd\n",
    "import datetime\n",
    "import tushare as ts\n",
    "import baostock as bs"
   ]
  },
  {
   "cell_type": "code",
   "execution_count": 36,
   "metadata": {},
   "outputs": [
    {
     "name": "stdout",
     "output_type": "stream",
     "text": [
      "执行Baostock的全行情获取\n",
      "login success!\n",
      "login respond error_code:0\n",
      "login respond  error_msg:success\n",
      "logout success!\n"
     ]
    },
    {
     "data": {
      "text/plain": [
       "<baostock.data.resultset.ResultData at 0x1ed5e8ac470>"
      ]
     },
     "execution_count": 36,
     "metadata": {},
     "output_type": "execute_result"
    }
   ],
   "source": [
    "#获取/更新当前市场的指数、个股、转债\n",
    "#过滤已退市的个股\n",
    "#结果存储在stock_pool.json\n",
    "print('执行Baostock的全行情获取')\n",
    "# 登陆系统\n",
    "lg = bs.login()\n",
    "\n",
    "# 显示登陆返回信息\n",
    "print('login respond error_code:'+lg.error_code)\n",
    "print('login respond  error_msg:'+lg.error_msg)\n",
    "\n",
    "rs = bs.query_stock_basic()\n",
    "\n",
    "# 打印结果集\n",
    "data_list = []\n",
    "while (rs.error_code == '0') & rs.next():\n",
    "    # 获取一条记录，将记录合并在一起\n",
    "    data_list.append(rs.get_row_data())\n",
    "result = pd.DataFrame(data_list, columns=rs.fields)\n",
    "\n",
    "# 登出系统\n",
    "bs.logout()"
   ]
  },
  {
   "cell_type": "code",
   "execution_count": 37,
   "metadata": {},
   "outputs": [],
   "source": [
    "# 筛选outDate为空的记录，即未退市的股票\n",
    "result = result[result['outDate'] == '']"
   ]
  },
  {
   "cell_type": "code",
   "execution_count": 38,
   "metadata": {},
   "outputs": [],
   "source": [
    "# 按类型分类存储\n",
    "stock_index = {\n",
    "    '股票': dict(zip(result[result['type'] == '1']['code_name'], \n",
    "                result[result['type'] == '1']['code'])),\n",
    "    '指数': dict(zip(result[result['type'] == '2']['code_name'], \n",
    "                result[result['type'] == '2']['code'])),\n",
    "    '其他': dict(zip(result[result['type'] == '3']['code_name'], \n",
    "                result[result['type'] == '3']['code'])),\n",
    "    '可转债': dict(zip(result[result['type'] == '4']['code_name'], \n",
    "                result[result['type'] == '4']['code'])),\n",
    "    'ETF': dict(zip(result[result['type'] == '5']['code_name'], \n",
    "                result[result['type'] == '5']['code']))\n",
    "}"
   ]
  },
  {
   "cell_type": "code",
   "execution_count": 41,
   "metadata": {},
   "outputs": [
    {
     "name": "stdout",
     "output_type": "stream",
     "text": [
      "完成：获取/更新当前市场的指数、个股、转债\n"
     ]
    }
   ],
   "source": [
    "#将数据写入json文件中\n",
    "with open(\"stock_pool.json\",\"w\",encoding='utf-8') as f:\n",
    "    json.dump(stock_index,f,ensure_ascii=False,indent=4)\n",
    "\n",
    "print('完成：获取/更新当前市场的指数、个股、转债')"
   ]
  },
  {
   "cell_type": "code",
   "execution_count": null,
   "metadata": {},
   "outputs": [],
   "source": []
  }
 ],
 "metadata": {
  "kernelspec": {
   "display_name": "Python 3",
   "language": "python",
   "name": "python3"
  },
  "language_info": {
   "codemirror_mode": {
    "name": "ipython",
    "version": 3
   },
   "file_extension": ".py",
   "mimetype": "text/x-python",
   "name": "python",
   "nbconvert_exporter": "python",
   "pygments_lexer": "ipython3",
   "version": "3.7.0"
  }
 },
 "nbformat": 4,
 "nbformat_minor": 2
}
